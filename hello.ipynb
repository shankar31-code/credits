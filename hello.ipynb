{
 "cells": [
  {
   "cell_type": "code",
   "execution_count": 24,
   "id": "a8aacdb6-5cd3-4cb2-82da-0dc52b82bd22",
   "metadata": {},
   "outputs": [
    {
     "name": "stdin",
     "output_type": "stream",
     "text": [
      "enter the roll No: 2\n"
     ]
    },
    {
     "name": "stdout",
     "output_type": "stream",
     "text": [
      "   Roll no   subjects results  credits\n",
      "5        2         M1    Pass        4\n",
      "6        2  chemistry    pass        4\n",
      "7        2        BEE    fail        0\n",
      "8        2         EG    pass        3\n",
      "9        2         M2    fail        0\n",
      "credits= 11\n",
      " eligible to promot to next year\n"
     ]
    }
   ],
   "source": [
    "import numpy as np\n",
    "import pandas as pd\n",
    "df=pd.read_csv('results.csv')\n",
    "maxcredits_df=pd.read_csv('subjectcredits.csv')\n",
    "df['Roll no']=df['Roll no'].astype(int)\n",
    "reqcredits=8;\n",
    "# to get specific  studentdetails by using rollno \n",
    "def getrolldetails(df,roll):\n",
    "    return df[df['Roll no']==roll]\n",
    "# it is used to calculate credits of students\n",
    "def creditscalculator(details):\n",
    "    credit=0;\n",
    "    for index, detail in details.iterrows():#its iterates every row \n",
    "        if(detail['results'].lower()=='pass'):\n",
    "            credit=credit+detail['credits']\n",
    "    return credit\n",
# this method is used to  give failed subjects with credits they have
    "def failedSubjects(details,maxcredits):\n",
    "    print(\"subject which are not cleared: \")\n",
    "    for index, detail in details.iterrows():\n",
    "       # print(f\"Checking for subject: {detail['subjects'].lower()}\")\n",
    "        if detail['results'].lower() == 'fail':\n",
    "            subject_credits= maxcredits[maxcredits['subjects'].str.lower() == detail['subjects'].lower()]\n",
    "           #print(f\"Found subject credits: {subject_credits}\")\n",
    "            if not subject_credits.empty:\n",
    "                print(f\"{detail['subjects']:<20}  || credits: {subject_credits['max_credits'].values[0]}\")\n",
    "    \n",
    "#  verifies whether the student is eligible to promote next year\n",
    "def eligible(creditscore,reqcredits,details,maxcredits):\n",
    "    if creditscore < reqcredits:\n",
    "        print(\"not eligible to promote to next year\")\n",
    "        needcredits=reqcredits-creditscore\n",
    "        print(\"credits obtained:\",creditscore)\n",
    "        print(f\"need more {needcredits} credits to promote nextyear\")\n",
    "        failedSubjects(details,maxcredits)\n",
    "    else:\n",
    "        print(\" eligible to promot to next year\")\n",
    "roll=int(input(\"enter the roll No:\"))\n",
    "details=getrolldetails(df,roll)\n",
    "\n",
    "print(details)\n",
    "creditscore=creditscalculator(details)\n",
    "print(\"credits=\",creditscore)\n",
    "eligible(creditscore,reqcredits,details,maxcredits_df)\n",
    "\n",
    "\n",
    "\n",
    " \n",
    "\n",
    "\n"
   ]
  },
  {
   "cell_type": "code",
   "execution_count": null,
   "id": "9e2e4a4c-ee2a-46df-8aed-cf57f2daec2b",
   "metadata": {},
   "outputs": [],
   "source": [
    "Cell In["
   ]
  }
 ],
 "metadata": {
  "kernelspec": {
   "display_name": "Python 3 (ipykernel)",
   "language": "python",
   "name": "python3"
  },
  "language_info": {
   "codemirror_mode": {
    "name": "ipython",
    "version": 3
   },
   "file_extension": ".py",
   "mimetype": "text/x-python",
   "name": "python",
   "nbconvert_exporter": "python",
   "pygments_lexer": "ipython3",
   "version": "3.11.7"
  }
 },
 "nbformat": 4,
 "nbformat_minor": 5
}
